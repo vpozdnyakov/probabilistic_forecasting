{
  "nbformat": 4,
  "nbformat_minor": 0,
  "metadata": {
    "colab": {
      "name": "eda_shallow_glance.ipynb",
      "provenance": []
    },
    "kernelspec": {
      "name": "python3",
      "display_name": "Python 3"
    },
    "language_info": {
      "name": "python"
    }
  },
  "cells": [
    {
      "cell_type": "code",
      "metadata": {
        "colab": {
          "base_uri": "https://localhost:8080/"
        },
        "id": "30AZ5XeEg3cp",
        "outputId": "fe77b3ff-1406-4981-a024-d5a03808dfc2"
      },
      "source": [
        "!pip install statsmodels==0.12.2"
      ],
      "execution_count": 1,
      "outputs": [
        {
          "output_type": "stream",
          "text": [
            "Collecting statsmodels==0.12.2\n",
            "\u001b[?25l  Downloading https://files.pythonhosted.org/packages/da/69/8eef30a6237c54f3c0b524140e2975f4b1eea3489b45eb3339574fc8acee/statsmodels-0.12.2-cp37-cp37m-manylinux1_x86_64.whl (9.5MB)\n",
            "\u001b[K     |████████████████████████████████| 9.5MB 5.4MB/s \n",
            "\u001b[?25hRequirement already satisfied: scipy>=1.1 in /usr/local/lib/python3.7/dist-packages (from statsmodels==0.12.2) (1.4.1)\n",
            "Requirement already satisfied: pandas>=0.21 in /usr/local/lib/python3.7/dist-packages (from statsmodels==0.12.2) (1.1.5)\n",
            "Requirement already satisfied: numpy>=1.15 in /usr/local/lib/python3.7/dist-packages (from statsmodels==0.12.2) (1.19.5)\n",
            "Requirement already satisfied: patsy>=0.5 in /usr/local/lib/python3.7/dist-packages (from statsmodels==0.12.2) (0.5.1)\n",
            "Requirement already satisfied: python-dateutil>=2.7.3 in /usr/local/lib/python3.7/dist-packages (from pandas>=0.21->statsmodels==0.12.2) (2.8.1)\n",
            "Requirement already satisfied: pytz>=2017.2 in /usr/local/lib/python3.7/dist-packages (from pandas>=0.21->statsmodels==0.12.2) (2018.9)\n",
            "Requirement already satisfied: six in /usr/local/lib/python3.7/dist-packages (from patsy>=0.5->statsmodels==0.12.2) (1.15.0)\n",
            "Installing collected packages: statsmodels\n",
            "  Found existing installation: statsmodels 0.10.2\n",
            "    Uninstalling statsmodels-0.10.2:\n",
            "      Successfully uninstalled statsmodels-0.10.2\n",
            "Successfully installed statsmodels-0.12.2\n"
          ],
          "name": "stdout"
        }
      ]
    },
    {
      "cell_type": "code",
      "metadata": {
        "id": "ihKVHK3QhXGN"
      },
      "source": [
        "import numpy as np\n",
        "import pandas as pd\n",
        "import matplotlib.pyplot as plt\n",
        "from statsmodels.base.transform import BoxCox\n",
        "from scipy.special import inv_boxcox\n",
        "from statsmodels.tsa.stattools import kpss\n",
        "from statsmodels.tools.sm_exceptions import InterpolationWarning\n",
        "from sklearn.metrics import mean_squared_error as mse\n",
        "from statsmodels.tsa.stattools import pacf\n",
        "\n",
        "import warnings\n",
        "warnings.filterwarnings('ignore', category=InterpolationWarning)"
      ],
      "execution_count": 2,
      "outputs": []
    },
    {
      "cell_type": "code",
      "metadata": {
        "id": "HA-dDCT-hYix"
      },
      "source": [
        "aus_retail = pd.read_csv('https://raw.githubusercontent.com/vpozdnyakov/probabilistic_forecasting/main/datasets/aus_retail.csv',  index_col=0)\n",
        "aus_retail.index = pd.to_datetime(aus_retail.index)"
      ],
      "execution_count": 3,
      "outputs": []
    },
    {
      "cell_type": "code",
      "metadata": {
        "colab": {
          "base_uri": "https://localhost:8080/"
        },
        "id": "wz4IHvWNhaTt",
        "outputId": "e1e80abc-e75b-432c-a466-64327b0513f4"
      },
      "source": [
        "train_bound = pd.Timestamp('2016-02-01')\n",
        "train = aus_retail[aus_retail.index <= train_bound].iloc[:, :4]\n",
        "test = aus_retail[aus_retail.index > train_bound].iloc[:, :4]\n",
        "train.shape, test.shape"
      ],
      "execution_count": 4,
      "outputs": [
        {
          "output_type": "execute_result",
          "data": {
            "text/plain": [
              "((407, 4), (60, 4))"
            ]
          },
          "metadata": {
            "tags": []
          },
          "execution_count": 4
        }
      ]
    },
    {
      "cell_type": "code",
      "metadata": {
        "colab": {
          "base_uri": "https://localhost:8080/"
        },
        "id": "ROrZ4Zh2hbrY",
        "outputId": "0ace52ba-1c9d-46be-fa98-e968a84e1cde"
      },
      "source": [
        "test_corr = np.corrcoef(test.values.T)\n",
        "train_corr = np.corrcoef(train.values.T)\n",
        "\n",
        "print('Correlation loss: {:.4f}'.format(mse(train_corr, test_corr)))"
      ],
      "execution_count": 6,
      "outputs": [
        {
          "output_type": "stream",
          "text": [
            "Correlation loss: 0.0035\n"
          ],
          "name": "stdout"
        }
      ]
    },
    {
      "cell_type": "code",
      "metadata": {
        "colab": {
          "base_uri": "https://localhost:8080/"
        },
        "id": "JAzQgzIKhsnz",
        "outputId": "63d83846-259c-41c8-f649-8cf1e9b3a7c4"
      },
      "source": [
        "nts = 4\n",
        "nlags = 20\n",
        "\n",
        "test_pacfs = np.zeros((nts, nlags))\n",
        "for ts_id in range(nts):\n",
        "    test_pacfs[ts_id] = pacf(test.values[:, ts_id], nlags=nlags)[1:]\n",
        "\n",
        "train_pacfs = np.zeros((nts, nlags))\n",
        "for ts_id in range(nts):\n",
        "    train_pacfs[ts_id] = pacf(train.values[:, ts_id], nlags=nlags)[1:]\n",
        "\n",
        "print('PACF loss: {:.4f}'.format(mse(train_pacfs, test_pacfs)))"
      ],
      "execution_count": 8,
      "outputs": [
        {
          "output_type": "stream",
          "text": [
            "PACF loss: 0.0329\n"
          ],
          "name": "stdout"
        }
      ]
    },
    {
      "cell_type": "code",
      "metadata": {
        "id": "p7sV-7B6h5df"
      },
      "source": [
        ""
      ],
      "execution_count": null,
      "outputs": []
    }
  ]
}